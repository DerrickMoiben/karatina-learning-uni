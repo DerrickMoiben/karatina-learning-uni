{
 "cells": [
  {
   "cell_type": "code",
   "execution_count": 1,
   "id": "78a1f754",
   "metadata": {},
   "outputs": [
    {
     "name": "stdout",
     "output_type": "stream",
     "text": [
      "hello  world!\n"
     ]
    }
   ],
   "source": [
    "print(\"hello  world!\")"
   ]
  },
  {
   "cell_type": "code",
   "execution_count": 6,
   "id": "9aca627e",
   "metadata": {},
   "outputs": [
    {
     "name": "stdout",
     "output_type": "stream",
     "text": [
      "[1, 2, 3, 4]\n"
     ]
    }
   ],
   "source": [
    "# this is a ist in python\n",
    "a = [1, 2, 3]\n",
    "a.append(4)\n",
    "b = a\n",
    "print(b)"
   ]
  },
  {
   "cell_type": "code",
   "execution_count": 7,
   "id": "292c6588",
   "metadata": {},
   "outputs": [
    {
     "data": {
      "text/plain": [
       "False"
      ]
     },
     "execution_count": 7,
     "metadata": {},
     "output_type": "execute_result"
    }
   ],
   "source": [
    "#isinstance  check if the passed is among the type in the tuple\n",
    "a = \"kim\"\n",
    "isinstance(a, (int, float))"
   ]
  },
  {
   "cell_type": "code",
   "execution_count": 9,
   "id": "2099991c",
   "metadata": {},
   "outputs": [
    {
     "name": "stdout",
     "output_type": "stream",
     "text": [
      "<built-in method capitalize of str object at 0x7f7a0f0ff450>\n",
      "foo\n"
     ]
    }
   ],
   "source": [
    "a = \"foo\"\n",
    "print(a)"
   ]
  },
  {
   "cell_type": "code",
   "execution_count": 10,
   "id": "9fe82b09",
   "metadata": {},
   "outputs": [
    {
     "data": {
      "text/plain": [
       "True"
      ]
     },
     "execution_count": 10,
     "metadata": {},
     "output_type": "execute_result"
    }
   ],
   "source": [
    "def isit(obj):\n",
    "    try:\n",
    "        iter(obj)\n",
    "        return True\n",
    "    except TypeError:\n",
    "        return False\n",
    "    \n",
    "isit(\"a string\")"
   ]
  },
  {
   "cell_type": "code",
   "execution_count": 11,
   "id": "39b336be",
   "metadata": {},
   "outputs": [
    {
     "data": {
      "text/plain": [
       "False"
      ]
     },
     "execution_count": 11,
     "metadata": {},
     "output_type": "execute_result"
    }
   ],
   "source": [
    "isit(5)"
   ]
  },
  {
   "cell_type": "code",
   "execution_count": null,
   "id": "718e6cab",
   "metadata": {},
   "outputs": [],
   "source": [
    "# Dictionary list and arrays are mutable while tuples and strings re immutable\n",
    "# you can convert a python object to a string using str\n"
   ]
  },
  {
   "cell_type": "code",
   "execution_count": 24,
   "id": "01c87d2b",
   "metadata": {},
   "outputs": [
    {
     "name": "stdout",
     "output_type": "stream",
     "text": [
      "*\n",
      "Tuna separate hapa\n",
      "0 0\n",
      "0 1\n",
      "0 2\n",
      "0 3\n",
      "*\n",
      "Tuna separate hapa\n",
      "1 0\n",
      "1 1\n",
      "1 2\n",
      "1 3\n",
      "*\n",
      "Tuna separate hapa\n",
      "2 0\n",
      "2 1\n",
      "2 2\n",
      "2 3\n",
      "*\n",
      "Tuna separate hapa\n",
      "3 0\n",
      "3 1\n",
      "3 2\n",
      "3 3\n"
     ]
    }
   ],
   "source": [
    "for i in range(4):\n",
    "    print(\"*\")\n",
    "    print(\"Tuna separate hapa\")\n",
    "    for j in range(4):\n",
    "        print( i, j)"
   ]
  },
  {
   "cell_type": "code",
   "execution_count": 19,
   "id": "0c269786",
   "metadata": {},
   "outputs": [
    {
     "data": {
      "text/plain": [
       "{'a': 'some values', 'b': [1, 2, 3]}"
      ]
     },
     "execution_count": 19,
     "metadata": {},
     "output_type": "execute_result"
    }
   ],
   "source": [
    "#lets learnig dictionary\n",
    "d1 = {\"a\": \"some values\", \"b\": [1,2,3]}\n",
    "d1"
   ]
  },
  {
   "cell_type": "code",
   "execution_count": null,
   "id": "2c45c709",
   "metadata": {},
   "outputs": [],
   "source": []
  }
 ],
 "metadata": {
  "kernelspec": {
   "display_name": "Python 3 (ipykernel)",
   "language": "python",
   "name": "python3"
  },
  "language_info": {
   "codemirror_mode": {
    "name": "ipython",
    "version": 3
   },
   "file_extension": ".py",
   "mimetype": "text/x-python",
   "name": "python",
   "nbconvert_exporter": "python",
   "pygments_lexer": "ipython3",
   "version": "3.13.7"
  }
 },
 "nbformat": 4,
 "nbformat_minor": 5
}
