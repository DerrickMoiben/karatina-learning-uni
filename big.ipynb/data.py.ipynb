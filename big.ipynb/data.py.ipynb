{
 "cells": [
  {
   "cell_type": "code",
   "execution_count": 1,
   "id": "ca2e7a46",
   "metadata": {},
   "outputs": [
    {
     "name": "stdout",
     "output_type": "stream",
     "text": [
      "hello  world!\n"
     ]
    }
   ],
   "source": [
    "print(\"hello  world!\")"
   ]
  },
  {
   "cell_type": "code",
   "execution_count": 6,
   "id": "3ee0abd4",
   "metadata": {},
   "outputs": [
    {
     "name": "stdout",
     "output_type": "stream",
     "text": [
      "[1, 2, 3, 4]\n"
     ]
    }
   ],
   "source": [
    "# this is a ist in python\n",
    "a = [1, 2, 3]\n",
    "a.append(4)\n",
    "b = a\n",
    "print(b)"
   ]
  },
  {
   "cell_type": "code",
   "execution_count": 7,
   "id": "8575d0dc",
   "metadata": {},
   "outputs": [
    {
     "data": {
      "text/plain": [
       "False"
      ]
     },
     "execution_count": 7,
     "metadata": {},
     "output_type": "execute_result"
    }
   ],
   "source": [
    "#isinstance  check if the passed is among the type in the tuple\n",
    "a = \"kim\"\n",
    "isinstance(a, (int, float))"
   ]
  },
  {
   "cell_type": "code",
   "execution_count": 9,
   "id": "c034e316",
   "metadata": {},
   "outputs": [
    {
     "name": "stdout",
     "output_type": "stream",
     "text": [
      "<built-in method capitalize of str object at 0x7f7a0f0ff450>\n",
      "foo\n"
     ]
    }
   ],
   "source": [
    "a = \"foo\"\n",
    "print(a)"
   ]
  },
  {
   "cell_type": "code",
   "execution_count": 10,
   "id": "219398b9",
   "metadata": {},
   "outputs": [
    {
     "data": {
      "text/plain": [
       "True"
      ]
     },
     "execution_count": 10,
     "metadata": {},
     "output_type": "execute_result"
    }
   ],
   "source": [
    "def isit(obj):\n",
    "    try:\n",
    "        iter(obj)\n",
    "        return True\n",
    "    except TypeError:\n",
    "        return False\n",
    "    \n",
    "isit(\"a string\")"
   ]
  },
  {
   "cell_type": "code",
   "execution_count": 11,
   "id": "3dd88c7a",
   "metadata": {},
   "outputs": [
    {
     "data": {
      "text/plain": [
       "False"
      ]
     },
     "execution_count": 11,
     "metadata": {},
     "output_type": "execute_result"
    }
   ],
   "source": [
    "isit(5)"
   ]
  },
  {
   "cell_type": "code",
   "execution_count": null,
   "id": "e49329aa",
   "metadata": {},
   "outputs": [],
   "source": [
    "# Dictionary list and arrays are mutable while tuples and strings re immutable"
   ]
  },
  {
   "cell_type": "code",
   "execution_count": null,
   "id": "e85dbb55",
   "metadata": {},
   "outputs": [],
   "source": []
  }
 ],
 "metadata": {
  "kernelspec": {
   "display_name": "Python 3 (ipykernel)",
   "language": "python",
   "name": "python3"
  },
  "language_info": {
   "codemirror_mode": {
    "name": "ipython",
    "version": 3
   },
   "file_extension": ".py",
   "mimetype": "text/x-python",
   "name": "python",
   "nbconvert_exporter": "python",
   "pygments_lexer": "ipython3",
   "version": "3.13.7"
  }
 },
 "nbformat": 4,
 "nbformat_minor": 5
}
